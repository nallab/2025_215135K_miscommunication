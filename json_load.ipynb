{
 "cells": [
  {
   "cell_type": "code",
   "execution_count": 4,
   "id": "77df147d-41d1-49bf-8f82-40320deb31a7",
   "metadata": {},
   "outputs": [
    {
     "name": "stdout",
     "output_type": "stream",
     "text": [
      "  % Total    % Received % Xferd  Average Speed   Time    Time     Time  Current\n",
      "                                 Dload  Upload   Total   Spent    Left  Speed\n",
      "100  373k  100  373k    0     0   893k      0 --:--:-- --:--:-- --:--:--  899k\n"
     ]
    }
   ],
   "source": [
    "!curl -L -o test.json https://raw.githubusercontent.com/alanaai/Repair-QA/refs/heads/main/data/test.json"
   ]
  },
  {
   "cell_type": "code",
   "execution_count": 1,
   "id": "bf3b29b6-f6c5-46f9-81b7-d2516c690e42",
   "metadata": {},
   "outputs": [],
   "source": [
    "\n",
    "import json\n",
    "\n",
    "# JSONファイルを読み込む関数\n",
    "def read_json_file(file_path):\n",
    "    try:\n",
    "        # ファイルを開く\n",
    "        with open(file_path, 'r', encoding='utf-8') as file:\n",
    "            # JSONデータを読み取る\n",
    "            data = json.load(file)\n",
    "            return data\n",
    "    except FileNotFoundError:\n",
    "        print(f\"Error: File not found at {file_path}\")\n",
    "        return None\n",
    "    except json.JSONDecodeError as e:\n",
    "        print(f\"Error: Failed to decode JSON - {e}\")\n",
    "        return None\n",
    "\n",
    "# 使用例\n",
    "if __name__ == \"__main__\":\n",
    "    # 読み取りたいJSONファイルのパス\n",
    "    json_file_path = \"test.json\"\n",
    "    \n",
    "    # JSONファイルを読み込む\n",
    "    json_data = read_json_file(json_file_path)\n",
    "    \n",
    "\n"
   ]
  },
  {
   "cell_type": "code",
   "execution_count": 2,
   "id": "ae8d695e-316a-4069-9eee-1c8811edb540",
   "metadata": {},
   "outputs": [],
   "source": [
    "import random"
   ]
  },
  {
   "cell_type": "code",
   "execution_count": 3,
   "id": "3d2761ee-d323-4f07-9c57-d8b62ab70fbc",
   "metadata": {},
   "outputs": [
    {
     "name": "stdout",
     "output_type": "stream",
     "text": [
      "=== 1 回目===\n",
      "However, if you feel that my knowledge is incorrect or that we are not on the same page, please check to see if we are on the same page.\\n\\nExamples of checking:.\\n\\nTopic: When is the new maroon 5 album released?\\nA: Maroon 5's album Red Pill Blues was released in November 3, 2017.\\nB: Don't you mean  v rather than red pill blues ?\\nA: August 29, 2014.\\n\\nTopic: When is the nba first regular season game?\\nA: The first regular game of the 2017 - 2018 NBA regular season was in October 17, 2017.\\nB: Don't you mean  2016 - 2017 rather than 2017 - 2018 ?\\nA: October 25, 2016.\n",
      "==============\n",
      "=== 2 回目===\n",
      "However, if you feel that my knowledge is incorrect or that we are not on the same page, please check to see if we are on the same page.\\n\\nExamples of checking:.\\n\\nTopic: When was the new york safe act passed?\\nA: The New York safe act was passed by the senate in January 14, 2013.\\nB: Don't you mean  new york state assembly rather than senate ?\\nA: January 15, 2013.\\n\\nTopic: When was the last super bowl the redskins won?\\nA: The date of the last super bowl the redskins won is 1991.\\nB: Don't you mean  number rather than date ?\\nA: XXVI.\n",
      "==============\n",
      "=== 3 回目===\n",
      "However, if you feel that my knowledge is incorrect or that we are not on the same page, please check to see if we are on the same page.\\n\\nExamples of checking:.\\n\\nTopic: What is the ranking of india in asian games 2018?\\nA: The ranking of India in number of athletes in the Asian games 2018 is 8th.\\nB: Don't you mean  total number of medals in the 2018 asian games rather than number of athletes in the asian games 2018 ?\\nA: 6th.\\n\\nTopic: 6. what are the three responsibilities of the federal reserve system?\\nA: The responsibility of the US Federal Reserve System in terms of jobs is maximizing employment.\\nB: Don't you mean  how much things cost rather than jobs ?\\nA: stabilizing prices.\n",
      "==============\n",
      "=== 4 回目===\n",
      "However, if you feel that my knowledge is incorrect or that we are not on the same page, please check to see if we are on the same page.\\n\\nExamples of checking:.\\n\\nTopic: Who won the 2018 formula 1 australian grand prix tournament?\\nA: Sebastian Vettel won the 2018 formula 1 australian grand prix tournament.\\nB: Don't you mean  constructor rather than driver ?\\nA: Ferrari.\\n\\nTopic: When was i'll be there for you released?\\nA: The song I'll be there for you by The Rembrandts released was in May 1, 1995.\\nB: Don't you mean  bon jovi rather than the rembrandts ?\\nA: April 4, 1989.\n",
      "==============\n",
      "=== 5 回目===\n",
      "However, if you feel that my knowledge is incorrect or that we are not on the same page, please check to see if we are on the same page.\\n\\nExamples of checking:.\\n\\nTopic: Who is the leader of ruling party in rajya sabha?\\nA: Manmohan Singh is the leader of ruling party in rajya sabha in 2005.\\nB: Don't you mean  2014 rather than 2005 ?\\nA: Arun Jaitley.\\n\\nTopic: Who is regarded as the father of modern india?\\nA: Raja Ram Mohan Roy is regarded as the father of modern india, shared with Dr. B. R. Ambedkar and conferred by Columbia University.\\nB: Don't you mean  raja ram mohan roy rather than dr b r ambedkar ?\\nA: Bhimrao Ramji Ambedkar.\n",
      "==============\n",
      "=== 6 回目===\n",
      "However, if you feel that my knowledge is incorrect or that we are not on the same page, please check to see if we are on the same page.\\n\\nExamples of checking:.\\n\\nTopic: Who played the wife in wolf of wall street?\\nA: Milioti played Jordan's first wife in wolf of wall street.\\nB: Don't you mean  second rather than first ?\\nA: Margot Robbie.\\n\\nTopic: When does the flash season 4 episode 9 come out?\\nA: The flash season 4 episode 9 comes out December 5, 2017 on TV.\\nB: Don't you mean  netflix rather than tv ?\\nA: late May 2018.\n",
      "==============\n",
      "=== 7 回目===\n",
      "However, if you feel that my knowledge is incorrect or that we are not on the same page, please check to see if we are on the same page.\\n\\nExamples of checking:.\\n\\nTopic: When did the movie top gun come out?\\nA: The movie Top Gun came out May 12, 1986 in New York City.\\nB: Don't you mean  throughout the united states rather than in new york city ?\\nA: May 16, 1986.\\n\\nTopic: What does foo stand for in foo fighters?\\nA: Foo stands for fire in foo fighters according to Smokey Stover's catch - phrase.\\nB: Don't you mean  bill holman rather than smokey stover's catch - phrase ?\\nA: good luck.\n",
      "==============\n",
      "=== 8 回目===\n",
      "However, if you feel that my knowledge is incorrect or that we are not on the same page, please check to see if we are on the same page.\\n\\nExamples of checking:.\\n\\nTopic: Who wrote the theme to the andy griffith show?\\nA: Earle Hagen and Herbert W. Spencer composed the theme song to the andy griffith show.\\nB: Don't you mean  wrote the lyrics of rather than composed ?\\nA: Everett Sloane.\\n\\nTopic: When does the new maze runner 3 come out?\\nA: The new maze runner 3 film comes out January 26, 2018 in the US.\\nB: Don't you mean  seoul rather than the us ?\\nA: January 11, 2018.\n",
      "==============\n",
      "=== 9 回目===\n",
      "However, if you feel that my knowledge is incorrect or that we are not on the same page, please check to see if we are on the same page.\\n\\nExamples of checking:.\\n\\nTopic: Where will the olympics take place in 2020?\\nA: The 2020 Winter Youth Olympics will take place in Lausanne, Switzerland.\\nB: Don't you mean  summer rather than winter youth ?\\nA: Tokyo.\\n\\nTopic: What is the date of the queen's birthday?\\nA: The date of Queen Elizabeth II's birthday is April 21, 1926.\\nB: Don't you mean  victoria's rather than elizabeth ii's ?\\nA: May 24, 1819.\n",
      "==============\n",
      "=== 10 回目===\n",
      "However, if you feel that my knowledge is incorrect or that we are not on the same page, please check to see if we are on the same page.\\n\\nExamples of checking:.\\n\\nTopic: What was the first full length indian feature film ever made?\\nA: The first full length silent indian feature film ever made was Raja Harishchandra.\\nB: Don't you mean  talking rather than silent ?\\nA: Alam Ara.\\n\\nTopic: Last time england made the semis in the world cup?\\nA: The last time england made the semis in the FIFA world cup is in 2018.\\nB: Don't you mean  cricket rather than fifa ?\\nA: 2019.\n",
      "==============\n",
      "=== 11 回目===\n",
      "However, if you feel that my knowledge is incorrect or that we are not on the same page, please check to see if we are on the same page.\\n\\nExamples of checking:.\\n\\nTopic: Who invented the system of latitudes and longitudes in 2nd century a.d?\\nA: Marinus invented the system of latitudes and longitudes, measuring latitudes using the island of Rhodes in 2nd century a.d.\\nB: Don't you mean  latitude from the equator rather than latitudes using the island of rhodes ?\\nA: Claudius Ptolemy.\\n\\nTopic: What do they chant in the dark knight rises?\\nA: They chant deshi basara in The Dark Knight Rises.\\nB: Don't you mean  does hans zimmer say the words mean that rather than words do ?\\nA: rise up.\n",
      "==============\n",
      "=== 12 回目===\n",
      "However, if you feel that my knowledge is incorrect or that we are not on the same page, please check to see if we are on the same page.\\n\\nExamples of checking:.\\n\\nTopic: Who sings how far i'll go in the movie moana?\\nA: Moana sings how far i'll go in the movie moana.\\nB: Don't you mean  singer rather than character ?\\nA: Cravalho.\\n\\nTopic: What was the celebration dedicated to athena called?\\nA: The celebration dedicated to athena's birthday called was the Panathenaea.\\nB: Don't you mean  athena and demeter rather than athena's birthday ?\\nA: The Skira.\n",
      "==============\n",
      "=== 13 回目===\n",
      "However, if you feel that my knowledge is incorrect or that we are not on the same page, please check to see if we are on the same page.\\n\\nExamples of checking:.\\n\\nTopic: What is the tallest volcano in hawaiian islands?\\nA: The tallest dormant volcano in hawaiian islands is Mauna Kea.\\nB: Don't you mean  active rather than dormant ?\\nA: Mauna Loa.\\n\\nTopic: What was the result of the 100 year war?\\nA: Valois retained and strengthened the French throne as a result of the 100 year war.\\nB: Don't you mean  which monarchy remained separate from france's rather than what house retained and strengthened the french throne ?\\nA: English.\n",
      "==============\n",
      "=== 14 回目===\n",
      "However, if you feel that my knowledge is incorrect or that we are not on the same page, please check to see if we are on the same page.\\n\\nExamples of checking:.\\n\\nTopic: Who sang the duet at the end of beauty and the beast?\\nA: Ariana Grande sang the duet at the end of beauty and the beast for belle.\\nB: Don't you mean  beast rather than belle ?\\nA: John Roger Stephens.\\n\\nTopic: What type of ice cream does dairy queen use?\\nA: Dairy queen uses soft serve.\\nB: Don't you mean  heaviness rather than style ?\\nA: reduced - fat.\n",
      "==============\n",
      "=== 15 回目===\n",
      "However, if you feel that my knowledge is incorrect or that we are not on the same page, please check to see if we are on the same page.\\n\\nExamples of checking:.\\n\\nTopic: When did the university of chicago leave the big ten?\\nA: The university of chicago withdrew from the big ten in March 7, 1946.\\nB: Don't you mean  big ten conference formally accept university of chicago resignation rather than university of chicago withdraw ?\\nA: May 31, 1946.\\n\\nTopic: How long does it take for vicryl sutures to dissolve?\\nA: It takes for vicryl sutures to dissolve to the point of not having tensile strength two to three weeks.\\nB: Don't you mean  compltely and be absorbed rather than to the point of not having tensile strength ?\\nA: 56 to 70 days.\n",
      "==============\n"
     ]
    }
   ],
   "source": [
    "for i in range(15):\n",
    "    examples = []\n",
    "    for j in range(2):\n",
    "        random_number = random.randint(0, len(json_data)-1)\n",
    "        question = json_data[random_number]['question'].replace('\\\"', \"\\'\")\n",
    "        long_ans = json_data[random_number]['long-answer'].replace('\\\"', \"\\'\")\n",
    "        former_and_latter = json_data[random_number]['context'].split(\"vs\")\n",
    "        former = former_and_latter[0].replace('\\\"', \"\\'\")\n",
    "        latter = former_and_latter[1].replace('\\\"', \"\\'\")\n",
    "        tpr_ans = json_data[random_number]['TPR-Ans'].replace('\\\"', \"\\'\")\n",
    "        cp_qa_example_txt = f\"Topic: {question}\\\\nA: {long_ans}\\\\nB: Don't you mean {latter} rather than {former}?\\\\nA: {tpr_ans}.\"\n",
    "        examples.append(cp_qa_example_txt)\n",
    "    cp_all = f\"However, if you feel that my knowledge is incorrect or that we are not on the same page, please check to see if we are on the same page.\\\\n\\\\nExamples of checking:.\\\\n\\\\n{examples[0]}\\\\n\\\\n{examples[1]}\"\n",
    "    print(f\"=== {i+1} 回目===\")\n",
    "    print(cp_all)\n",
    "    print(\"==============\")"
   ]
  },
  {
   "cell_type": "code",
   "execution_count": null,
   "id": "f153f836-c640-465c-bf36-a7e4e4f550c0",
   "metadata": {},
   "outputs": [],
   "source": []
  }
 ],
 "metadata": {
  "kernelspec": {
   "display_name": "miniforge-base",
   "language": "python",
   "name": "miniforge-base"
  },
  "language_info": {
   "codemirror_mode": {
    "name": "ipython",
    "version": 3
   },
   "file_extension": ".py",
   "mimetype": "text/x-python",
   "name": "python",
   "nbconvert_exporter": "python",
   "pygments_lexer": "ipython3",
   "version": "3.10.14"
  }
 },
 "nbformat": 4,
 "nbformat_minor": 5
}
