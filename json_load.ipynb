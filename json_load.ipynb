{
 "cells": [
  {
   "cell_type": "code",
   "execution_count": 1,
   "id": "77df147d-41d1-49bf-8f82-40320deb31a7",
   "metadata": {},
   "outputs": [
    {
     "name": "stdout",
     "output_type": "stream",
     "text": [
      "  % Total    % Received % Xferd  Average Speed   Time    Time     Time  Current\n",
      "                                 Dload  Upload   Total   Spent    Left  Speed\n",
      "100  373k  100  373k    0     0   714k      0 --:--:-- --:--:-- --:--:--  717k\n"
     ]
    }
   ],
   "source": [
    "!curl -L -o test.json https://raw.githubusercontent.com/alanaai/Repair-QA/refs/heads/main/data/test.json"
   ]
  },
  {
   "cell_type": "code",
   "execution_count": 2,
   "id": "bf3b29b6-f6c5-46f9-81b7-d2516c690e42",
   "metadata": {},
   "outputs": [],
   "source": [
    "\n",
    "import json\n",
    "\n",
    "# JSONファイルを読み込む関数\n",
    "def read_json_file(file_path):\n",
    "    try:\n",
    "        # ファイルを開く\n",
    "        with open(file_path, 'r', encoding='utf-8') as file:\n",
    "            # JSONデータを読み取る\n",
    "            data = json.load(file)\n",
    "            return data\n",
    "    except FileNotFoundError:\n",
    "        print(f\"Error: File not found at {file_path}\")\n",
    "        return None\n",
    "    except json.JSONDecodeError as e:\n",
    "        print(f\"Error: Failed to decode JSON - {e}\")\n",
    "        return None\n",
    "\n",
    "# 使用例\n",
    "if __name__ == \"__main__\":\n",
    "    # 読み取りたいJSONファイルのパス\n",
    "    json_file_path = \"test.json\"\n",
    "    \n",
    "    # JSONファイルを読み込む\n",
    "    json_data = read_json_file(json_file_path)\n",
    "    \n",
    "\n"
   ]
  },
  {
   "cell_type": "code",
   "execution_count": 3,
   "id": "ae8d695e-316a-4069-9eee-1c8811edb540",
   "metadata": {},
   "outputs": [],
   "source": [
    "import random"
   ]
  },
  {
   "cell_type": "code",
   "execution_count": null,
   "id": "987d69b8-6902-4e5b-af40-1c6a62625a14",
   "metadata": {},
   "outputs": [],
   "source": [
    "for i in range(15):\n",
    "    examples = []\n",
    "    for j in range(2):\n",
    "        random_number = random.randint(0, len(json_data)-1)\n",
    "        question = json_data[random_number]['question'].replace('\\\"', \"\\'\")\n",
    "        long_ans = json_data[random_number]['long-answer'].replace('\\\"', \"\\'\")\n",
    "        former_and_latter = json_data[random_number]['context'].split(\"vs\")\n",
    "        former = former_and_latter[0].replace('\\\"', \"\\'\")\n",
    "        latter = former_and_latter[1].replace('\\\"', \"\\'\")\n",
    "        tpr_ans = json_data[random_number]['TPR-Ans'].replace('\\\"', \"\\'\")\n",
    "        cp_qa_example_txt = f\"Topic: {question}\\\\nA: {long_ans}\\\\nB: Don't you mean {latter} rather than {former}?\\\\nA: {tpr_ans}.\"\n",
    "        examples.append(cp_qa_example_txt)\n",
    "    cp_front = \"Do not output anything other than your own speech. \"\n",
    "    cp_back = f\"However, if you feel that my knowledge is incorrect or that we are not on the same page, please check to see if we are on the same page.\\\\n\\\\nExamples of checking:.\\\\n\\\\n{examples[0]}\\\\n\\\\n{examples[1]}\"\n",
    "    cp_all = cp_front + cp_back\n",
    "    print(f\"=== {i+1} 回目===\")\n",
    "    print(cp_all)\n",
    "    print(\"==============\")"
   ]
  }
 ],
 "metadata": {
  "kernelspec": {
   "display_name": "miniforge-base",
   "language": "python",
   "name": "miniforge-base"
  },
  "language_info": {
   "codemirror_mode": {
    "name": "ipython",
    "version": 3
   },
   "file_extension": ".py",
   "mimetype": "text/x-python",
   "name": "python",
   "nbconvert_exporter": "python",
   "pygments_lexer": "ipython3",
   "version": "3.10.14"
  }
 },
 "nbformat": 4,
 "nbformat_minor": 5
}
